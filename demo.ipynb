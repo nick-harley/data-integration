{
 "cells": [
  {
   "cell_type": "markdown",
   "id": "9a481df7-2fbf-4c1f-8db3-f910650ccedf",
   "metadata": {},
   "source": [
    "# Data Integration and Knowledge Representation for AI Systems\n",
    "\n",
    "Nicholas Harley - nicholas.harley@vub.be\n",
    "\n",
    "Geraint Wiggins - geraint.wiggins@vub.be\n",
    "\n",
    "14th October 2024\n",
    "\n",
    "Github repository: <https://github.com/nick-harley/data-integration>"
   ]
  },
  {
   "cell_type": "markdown",
   "id": "a56dc393-6ab7-4938-9665-84aa58db4d90",
   "metadata": {},
   "source": [
    "## Introduction\n",
    "\n",
    "Many practical AI systems depend on the construction of knowledge bases from distributed heterogenous data sources. One example of such a system is the Flanders Make [AI assisted operater workstation](https://www.flandersairesearch.be/en/research/use-cases/ai-assisted-operator). This workstation augments the capabilities of its operator by responding to voice requests for information and providing detailed instruction throughout the assembly process according the operator's experience level. This is made possible through a combination of subsystems including speech processing, augmented reality and movement tracking. Each of the subsystems generates data which is of value in providing further assistance to the operator. In order to fully utilise these distributed, heterogeneous data sources, they need to be appropriately integrated into a single knowledge base which can be accessed in a uniform way.\n",
    "\n",
    "In this notebook we demonstrate how such an integrated knowledge base can be constructed using the [CHAKRA](#CHAKRA) knowledge representation framework. CHAKRA consists of a general purpose knowledge model which can be used to capture complex sequential, hierarchical phenomena, as well as a [functional specification for a programming interface](https://github.com/nick-harley/chakra-coq) for accesing and manipulating knowledge structures. Using CHAKRA to construct a knowledge base from distributed heterogenous data requires implementation of interfaces for each of the concrete data sources and engineering the coordination of these interfaces. Here we use the Julia programming language, which has an expressive type system and method overloading, the combination of which is exploited to implement interfaces with type-based dynamic dispatch. \n",
    "\n",
    "The rest of this notebook is structured as follows: we introduce the specific use case followed by an overview of CHAKRA. We then describe the [specific knowledge base](#Building-an-Integrated-Knowledge-Base-Using-CHAKRA) that was built and [how it can be queried](#Querying-the-Knowledge-Base). We then give some brief [conclusions(#Conclusions), below which is the all the [Julia code](#Code).  This is a stand alone-alone notebook with no Julia package dependencies. However, CHAKRA is a also available as a [Julia package](https://github.com/nick-harley/Chakra). This notebook is a work-in-progress and maybe updated from time to time.\n",
    "\n",
    "## Use Case: The AI Assisted Operator Workstation\n",
    "\n",
    "The [AI Assisted Operator](https://www.flandersairesearch.be/en/research/use-cases/ai-assisted-operator) in consists of dual-arm collaborative robot as well as a microphone, RGB camera, and Arkite projection system. These componenets are integrated using the SkiRos platform and can be utilised by the workstation operator via voice commands and a LLM-based chatbot. A typical interaction with the workstation may involve the operator asking for details of the product being assembled, for instructions or demonstrations, or for additional information about the task at hand. Many of these information requests require access to a variety of different data sources associated with the workstation which include historical execution data, assembly instructions, the robot's world model, order information, and RGB sensor data. \n",
    "\n",
    "In this notebook, we focus on one particular example of an operator request: \"how long does it take to assemble _X_?\" In order to answer this question from the operator, the system must first be able to identify 'X' and locate it in the assembly instructions for the product currently being assembled. It must then find all events and interactions in the historical execution database which related to 'X' and use that information to provide the operator with an estimate of the time required to complete the assembly. Here, we construct a hierarchical knowledge base in which the [XML assembly instructions](dwi.xml) for a simple product - a light switch - are integrated with the [CSV historical execution database](STEPS.csv), and show how this knowledge base can be enriched and queried to answer the above question. \n",
    "\n",
    "## CHAKRA\n",
    "\n",
    "In CHAKRA, knowledge is represented as a sequential, hierarchical configuration of entities called _constituents_. Constitutents can be associated with intrinsic data values called _attribtues_ and extrinsic labels called _properties_. Each constituent is uniquely identifiable and is associated with a (possibly empty) sequence of other constituent identifiers, called it's _particles_. The [CHAKRA signature](https://github.com/nick-harley/chakra-coq) consists of a set of types and operations which together specify a simple programming interface for this general purpose data model. [The CHAKRA Julia module](#chakrajl) specifies this interface as abstract Julia types and functions. A CHAKRA knowledge base is a Julia module which encapsulates some concrete data and implements the CHAKRA interface. Implementing the CHAKRA interface requires defining concrete subtypes of the abstract Julia types, as well as overloading the CHAKRA methods for operating on those types. Knowledge base modules can be augmented and integrated by nesting modules. This requires creating a parent module which imports one or more knowledge base modules and may define new constituents. The interfaces of parent knowledge bases are constructed by defining methods which may call methods from its child knowledge bases.\n",
    "\n",
    "The [CHAKRA query languauge](#query-language) is higher-level language for accessing information from CHAKRA knowledge bases. This query language is defined in terms of the CHAKRA signature. In Julia, query expressions are constructed as julia objects whose structure correspond to the abstract syntax tree. These objects are also callable on knowledge bases: running a query object with a knowledge base  uses only the interface of that knowledge base. Query objects can be [serialised as JSON](query.json) which can be used as primitive interface between Julia knowledge modules and other programming environments such as Python and SkiRos.\n",
    "\n",
    "## Building an Integrated Knowledge Base Using CHAKRA\n",
    "\n",
    "The CHAKRA knowledge base in this notebook integrates the [digital work instructions](dwi.xml) in XML format and the [historical execution data](STEPS.csv) in SQL/csv format. The knowledge base consists of 9 modules, illustrated in the figure below, with the hierarchical configuration of the constituents shown above. Vertical arrangment of modules in the diagram corresponds with the parent-child relation between modules. [DWI](#DWI) encapsulates the assembly instructions. The instructions are represented as a constituent whose particles are the sequence of assembly steps. [Events](#Events) encapsultes the workstation events. They are represented as a flat sequence of constituents whose attributes correspond to the SQL columns. [Seqs](#Seqs) augments the [Events](#Events) knowledge module with constituents which represent complete assmbly sequences. [Chunks](#Chunks) augments the [Events](#Events) knowledge module with constituents which represent individual assembly steps. [ChunkSeqs](#ChunkSeqs) augments the [Chunks](#Chunks) knowledge module with constituents that represent seqeunces of assembly steps. [SeqEx](#SeqEx) and [ChunkEx](#ChunkEx) link the [DWI](#DWI) knowledge module to the [Seqs](#Seqs) and [Chunks](#Chunks) knowledge modules, respectively. These modules define constituents which link the instructions which specific instances of assembly steps and sequences. [KB](#KB) integrates all of above knowledge modules into a single federated knowledge base with an interface which dispatches to the relevant child knowledge module using typing.\n",
    "\n",
    "<img src=\"kb.png\" width=\"500\">\n",
    "\n",
    "## Querying the Knowledge Base\n",
    "\n",
    "For this note book we assume the identification of the required work instruction identifier has already been resolved. In order to answer the question \"_How long does it take to assemble the lightswitch?_\" information relating to the timing of past assembly sequences must be extracted from the knowledge base and used to calculate a useful estimate of the user. This is done by traversing the hierarchy from high-level constituents and extracting attribute data. The query that corresponds to this request might be written as follows:\n",
    "\n",
    "```\n",
    "SELECT( TYPE(\"isExecutionOf\") && LASTPART(\"DWI.Workflow.Id()\")):\n",
    "    MAP( PROJ(TYPE(\"Arkite Event\"))) ; MAP(GET(\":STEP_DURATION\")) ; SUM ) ; \n",
    "    AVG()\n",
    "```\n",
    "\n",
    "This query first selects all constituents in the knowledge base which represent assembly executions and whose last particle is the identifier of the constituent representing the light switch assembly instructions, ``\"DWI.Workflow.Id()\"``. It then maps over this list of constituents, first performing a hierarchical down-projection on to the type ``\"Arkite Event\"``. It then extracts all the event durations from those event sequences, and sums them. The resulting list of assebly sequence total durations is then averaged, and this information can be relayed to the operator.\n",
    "\n",
    "## Conclusions \n",
    "\n",
    "This notebook provides a basic demonstration and proof-of-concept regarding the application of the CHAKRA knowledge representation framework in the construction of rich, multiple-hierarchical knowledge bases from distributed, heterogenous data. Two things which are import to highlight by way of conclusion are as follows: First, CHAKRA queries are entirely encoding independent. That is, they do not depend on the format used to encode the data. Users of CHAKRA knowledge structures need only know the vocabulary of attributes and properties used in order to start querying and generally programming with those structures. This is a vitally important feature of CHAKRA: the ability hide irrelavent data encoding details behind the interface and exose only that structure which is relevant for conveying knowledge. Second, while the implementation of programming interfaces is additional work for the authors of data and knowledge, the ammount of code required in Julia is relativelty small in most cases, and the benefits are potentially large from the perspective of interoperability, reusability and reproducibility."
   ]
  },
  {
   "cell_type": "markdown",
   "id": "fcacd333-cfc7-4760-9705-fc4c6d2187f3",
   "metadata": {},
   "source": [
    "# Code"
   ]
  },
  {
   "cell_type": "markdown",
   "id": "fa18e03e-2948-4292-985e-37c3e23663a8",
   "metadata": {},
   "source": [
    "<a id='chakrajl'></a>\n",
    "## CHAKRA"
   ]
  },
  {
   "cell_type": "code",
   "execution_count": 5,
   "id": "33739ba9",
   "metadata": {},
   "outputs": [],
   "source": [
    "module CHAKRA\n",
    "\n",
    "export option, none, fnd, geta, getp, pts, dom, cts\n",
    "\n",
    "struct None end\n",
    "none = None()\n",
    "option{A} = Union{A,None}\n",
    "\n",
    "# Abstract Types\n",
    "\n",
    "abstract type Id end\n",
    "abstract type Constituent end\n",
    "abstract type Hierarchy end\n",
    "abstract type Attribute{N,T} end\n",
    "abstract type Property{N,T} end\n",
    "\n",
    "# Registered Attributes and Properties \n",
    "\n",
    "__attributes__(::Val{N}) where N = error(\"No attribute named $N.\")\n",
    "__attributes__(N::Symbol) = __attributes__(Val{N}())\n",
    "__properties__(::Val{N}) where N = error(\"No property named $N.\")\n",
    "__properties__(N::Symbol) = __properties__(Val{N}())\n",
    "\n",
    "# Interface Operations\n",
    "\n",
    "fnd(x::Id,h::Hierarchy) = none\n",
    "fnd(x::Id,m::Module) = fnd(x,m.__data__)\n",
    "\n",
    "geta(::Attribute,c::Constituent) = none\n",
    "geta(N::Symbol,c) = geta(__attributes__(Val{N}()),c)\n",
    "\n",
    "getp(::Property,c::Constituent) = none\n",
    "getp(N::Symbol,c) = getp(__properties__(Val{N}()),c)\n",
    "\n",
    "pts(c::Constituent) = Id[]\n",
    "\n",
    "dom(h::Hierarchy) = Id[]\n",
    "dom(m::Module) = dom(m.__data__)\n",
    "\n",
    "#sequence(ids,kb) = [fnd(x,kb) for x in ids]\n",
    "#cts(kb) = sequence(dom(kb),kb)\n",
    "\n",
    "cts(kb) = Pair{Id,Constituent}[x=>fnd(x,kb) for x in dom(kb)]\n",
    "\n",
    "sequence(ids,kb) = begin\n",
    "    isempty(ids) && return Constituent[]\n",
    "    c = fnd(ids[1],kb)\n",
    "    c isa None && return none\n",
    "    r = sequence(ids[2:end],kb)\n",
    "    r isa None && return none\n",
    "    return Constituent[c,r...]\n",
    "end\n",
    "\n",
    "# PROPERTIES\n",
    "\n",
    "export DESCRIPTION, TYPE\n",
    "\n",
    "struct DESCRIPTION <: Property{:DESCRIPTION,String} end\n",
    "__properties__(::Val{:DESCRIPTION}) = DESCRIPTION()\n",
    "\n",
    "struct TYPE <: Property{:TYPE,String} end\n",
    "__properties__(::Val{:TYPE}) = TYPE()\n",
    "\n",
    "end\n",
    "\n",
    "using Main.CHAKRA"
   ]
  },
  {
   "cell_type": "markdown",
   "id": "d1a414a7-8e53-4765-b52d-25a0a6b0f74d",
   "metadata": {},
   "source": [
    "<a id='dwi'></a>\n",
    "## DWI"
   ]
  },
  {
   "cell_type": "code",
   "execution_count": 7,
   "id": "5d93a4bb-4510-4684-994d-9c5f78b67703",
   "metadata": {},
   "outputs": [
    {
     "data": {
      "text/plain": [
       "Main.DWI"
      ]
     },
     "execution_count": 7,
     "metadata": {},
     "output_type": "execute_result"
    }
   ],
   "source": [
    "module DWI\n",
    "\n",
    "using Main.CHAKRA\n",
    "using LightXML, JSON\n",
    "\n",
    "# Concrete Data\n",
    "\n",
    "xml = parse_file(\"dwi.xml\")\n",
    "r = root(xml)\n",
    "wfspec = r[\"WorkflowSpecification\"][1]\n",
    "wfdescription = content(r[\"Description\"][1])\n",
    "wfnodes = wfspec[\"WorkflowSpecificationNode\"][2:7]\n",
    "wfnodetypes = [content(n[\"WorkflowSpecificationNodeTypeID\"][1]) for n in wfnodes]\n",
    "properties = [n[\"WorkflowSpecificationNodeProperty\"] for n in wfnodes]\n",
    "names = [content(p[1][\"Value\"][1][\"ValueString\"][1]) for p in properties]\n",
    "descriptions = [JSON.parse(content(p[4][\"Value\"][1][\"ValueString\"][1])) for p in properties]\n",
    "\n",
    "abstract type Id <: CHAKRA.Id end\n",
    "\n",
    "module Steps\n",
    "\n",
    "using ..CHAKRA\n",
    "import ..DWI: descriptions, names, wfnodes\n",
    "\n",
    "struct Id{N} <: Main.DWI.Id end\n",
    "struct Step{N} <: CHAKRA.Constituent \n",
    "    Step{N}() where N = N > length(wfnodes) ? none : new{N}()\n",
    "end\n",
    "struct Data <: CHAKRA.Hierarchy end\n",
    "\n",
    "struct STEP_NAME <: CHAKRA.Property{:STEP_NAME,String} end\n",
    "CHAKRA.__properties__(::Val{:STEP_NAME}) = STEP_NAME()\n",
    "\n",
    "CHAKRA.fnd(::Id{N},::Data) where N = Step{N}()\n",
    "CHAKRA.pts(::Step) = CHAKRA.Id[]\n",
    "CHAKRA.getp(::TYPE,::Step) = \"Assembly Step\"\n",
    "CHAKRA.getp(::DESCRIPTION,c::Step{N}) where N = descriptions[N]\n",
    "CHAKRA.getp(::STEP_NAME,c::Step{N}) where N = names[N]\n",
    "CHAKRA.dom(::Data) = [Id{N}() for N in 1:6]\n",
    "\n",
    "__data__ = Data()\n",
    "\n",
    "end\n",
    "\n",
    "module Workflow\n",
    "\n",
    "using ..CHAKRA\n",
    "using ..Steps\n",
    "import ..DWI: wfdescription\n",
    "\n",
    "struct Id <: Main.DWI.Id end\n",
    "struct WF <: CHAKRA.Constituent end\n",
    "struct Data <: CHAKRA.Hierarchy end\n",
    "\n",
    "CHAKRA.fnd(::Id,::Data) = WF()\n",
    "CHAKRA.pts(::WF) = [Steps.Id{N}() for N in 1:6]\n",
    "CHAKRA.getp(::TYPE,::WF) = \"Workflow Specification\"\n",
    "CHAKRA.getp(::DESCRIPTION,c::WF) = wfdescription\n",
    "CHAKRA.dom(::Data) = [Id()]\n",
    "\n",
    "__data__ = Data()\n",
    "\n",
    "end\n",
    "\n",
    "struct Data <: CHAKRA.Hierarchy end\n",
    "\n",
    "CHAKRA.fnd(x::ID,::Data) where {ID<:Id} = fnd(x,parentmodule(ID))\n",
    "CHAKRA.dom(::Data) = [dom(Workflow)...,dom(Steps)...]\n",
    "\n",
    "__data__ = Data()\n",
    "\n",
    "end"
   ]
  },
  {
   "cell_type": "code",
   "execution_count": 8,
   "id": "db41279c-d482-4473-804d-11ead5e2e3f6",
   "metadata": {},
   "outputs": [],
   "source": [
    "using Main.DWI"
   ]
  },
  {
   "cell_type": "code",
   "execution_count": 9,
   "id": "801851e4-31bc-48f4-99dd-c1f545785522",
   "metadata": {},
   "outputs": [
    {
     "data": {
      "text/plain": [
       "7-element Vector{Main.DWI.Id}:\n",
       " Main.DWI.Workflow.Id()\n",
       " Main.DWI.Steps.Id{1}()\n",
       " Main.DWI.Steps.Id{2}()\n",
       " Main.DWI.Steps.Id{3}()\n",
       " Main.DWI.Steps.Id{4}()\n",
       " Main.DWI.Steps.Id{5}()\n",
       " Main.DWI.Steps.Id{6}()"
      ]
     },
     "execution_count": 9,
     "metadata": {},
     "output_type": "execute_result"
    }
   ],
   "source": [
    "dom(DWI)"
   ]
  },
  {
   "cell_type": "code",
   "execution_count": 10,
   "id": "6c5bc053-9bed-4a0c-9dd4-67b451a94fee",
   "metadata": {},
   "outputs": [
    {
     "data": {
      "text/plain": [
       "Main.DWI.Workflow.WF()"
      ]
     },
     "execution_count": 10,
     "metadata": {},
     "output_type": "execute_result"
    }
   ],
   "source": [
    "wf = fnd(DWI.Workflow.Id(),DWI)"
   ]
  },
  {
   "cell_type": "code",
   "execution_count": 11,
   "id": "52b13d75-4324-4b57-a4c2-4ea9910c8b4d",
   "metadata": {},
   "outputs": [
    {
     "data": {
      "text/plain": [
       "6-element Vector{Main.DWI.Steps.Id}:\n",
       " Main.DWI.Steps.Id{1}()\n",
       " Main.DWI.Steps.Id{2}()\n",
       " Main.DWI.Steps.Id{3}()\n",
       " Main.DWI.Steps.Id{4}()\n",
       " Main.DWI.Steps.Id{5}()\n",
       " Main.DWI.Steps.Id{6}()"
      ]
     },
     "execution_count": 11,
     "metadata": {},
     "output_type": "execute_result"
    }
   ],
   "source": [
    "ps = pts(wf)"
   ]
  },
  {
   "cell_type": "code",
   "execution_count": 12,
   "id": "b90a94e4-1dd0-4314-9e39-8bd9dfe31699",
   "metadata": {},
   "outputs": [
    {
     "data": {
      "text/plain": [
       "Main.CHAKRA.None()"
      ]
     },
     "execution_count": 12,
     "metadata": {},
     "output_type": "execute_result"
    }
   ],
   "source": [
    "CHAKRA.sequence([ps...,DWI.Steps.Id{10}()],DWI)"
   ]
  },
  {
   "cell_type": "code",
   "execution_count": 13,
   "id": "ee9ed7e0-d3b7-42f6-b214-ee210fd20f58",
   "metadata": {},
   "outputs": [
    {
     "data": {
      "text/plain": [
       "Main.DWI.Steps.Step{3}()"
      ]
     },
     "execution_count": 13,
     "metadata": {},
     "output_type": "execute_result"
    }
   ],
   "source": [
    "s = fnd(ps[3],DWI)"
   ]
  },
  {
   "cell_type": "code",
   "execution_count": 14,
   "id": "23df6dfd-79b8-46dd-b535-f33c0848b3ba",
   "metadata": {},
   "outputs": [
    {
     "data": {
      "text/plain": [
       "\"Spring 2\""
      ]
     },
     "execution_count": 14,
     "metadata": {},
     "output_type": "execute_result"
    }
   ],
   "source": [
    "getp(:STEP_NAME,s)"
   ]
  },
  {
   "cell_type": "markdown",
   "id": "633f5b4b-0cd3-41bc-aeb0-88b4cab27625",
   "metadata": {},
   "source": [
    "<a id='events'></a>\n",
    "## Events"
   ]
  },
  {
   "cell_type": "code",
   "execution_count": 16,
   "id": "f3b053e7-b4c9-4597-aa54-55ab54dc21da",
   "metadata": {},
   "outputs": [
    {
     "data": {
      "text/plain": [
       "40-element Vector{Main.Events.Id}:\n",
       " Main.Events.Id{1}()\n",
       " Main.Events.Id{2}()\n",
       " Main.Events.Id{3}()\n",
       " Main.Events.Id{4}()\n",
       " Main.Events.Id{5}()\n",
       " Main.Events.Id{6}()\n",
       " Main.Events.Id{7}()\n",
       " Main.Events.Id{8}()\n",
       " Main.Events.Id{9}()\n",
       " Main.Events.Id{10}()\n",
       " Main.Events.Id{11}()\n",
       " Main.Events.Id{12}()\n",
       " Main.Events.Id{13}()\n",
       " ⋮\n",
       " Main.Events.Id{29}()\n",
       " Main.Events.Id{30}()\n",
       " Main.Events.Id{31}()\n",
       " Main.Events.Id{32}()\n",
       " Main.Events.Id{33}()\n",
       " Main.Events.Id{34}()\n",
       " Main.Events.Id{35}()\n",
       " Main.Events.Id{36}()\n",
       " Main.Events.Id{37}()\n",
       " Main.Events.Id{38}()\n",
       " Main.Events.Id{39}()\n",
       " Main.Events.Id{40}()"
      ]
     },
     "execution_count": 16,
     "metadata": {},
     "output_type": "execute_result"
    }
   ],
   "source": [
    "module Events\n",
    "\n",
    "using Main.CHAKRA\n",
    "using CSV\n",
    "using DataFrames\n",
    "\n",
    "df = DataFrame(CSV.File(\"STEPS.csv\"))\n",
    "idx = df[:,1]\n",
    "\n",
    "# Abstract Types\n",
    "\n",
    "struct Id{N} <: CHAKRA.Id end\n",
    "struct Event{N} <: CHAKRA.Constituent end\n",
    "struct Data <: CHAKRA.Hierarchy end\n",
    "\n",
    "# Attribute Definitions\n",
    "\n",
    "abstract type Attribute{N,T} <: CHAKRA.Attribute{N,T} end\n",
    "\n",
    "struct TASK_NAME <: Attribute{:TASK_NAME,String} end\n",
    "CHAKRA.__attributes__(::Val{:TASK_NAME}) = TASK_NAME()\n",
    "\n",
    "struct ORIGIN_NAME <: Attribute{:ORIGIN_NAME,String} end\n",
    "CHAKRA.__attributes__(::Val{:ORIGIN_NAME}) = ORIGIN_NAME()\n",
    "\n",
    "struct START_TIME <: Attribute{:START_TIME,String} end\n",
    "CHAKRA.__attributes__(::Val{:START_TIME}) = START_TIME()\n",
    "\n",
    "struct STEP_DURATION <: Attribute{:STEP_DURATION,Float64} end\n",
    "CHAKRA.__attributes__(::Val{:STEP_DURATION}) = STEP_DURATION()\n",
    "\n",
    "struct STEP_INDEX <: Attribute{:STEP_INDEX,Int} end\n",
    "CHAKRA.__attributes__(::Val{:STEP_INDEX}) = STEP_INDEX()\n",
    "\n",
    "struct STEP_RANK <: Attribute{:STEP_RANK,Int} end\n",
    "CHAKRA.__attributes__(::Val{:STEP_RANK}) = STEP_RANK()\n",
    "\n",
    "struct USER_NAME <: Attribute{:USER_NAME,String} end\n",
    "CHAKRA.__attributes__(::Val{:USER_NAME}) = USER_NAME()\n",
    "\n",
    "struct EXPERIENCE_LEVEL <: Attribute{:EXPERIENCE_LEVEL,Int} end\n",
    "CHAKRA.__attributes__(::Val{:EXPERIENCE_LEVEL}) = EXPERIENCE_LEVEL()\n",
    "\n",
    "# CHAKRA Interface\n",
    "\n",
    "CHAKRA.fnd(::Id{N},::Data) where N = Event{N}()\n",
    "CHAKRA.geta(::A,::Event{n}) where {n,N,A<:Attribute{N}} = df[n,:][N]\n",
    "CHAKRA.getp(::TYPE,::Event) = \"Arkite Event\"\n",
    "CHAKRA.pts(c::Event) = CHAKRA.Id[]\n",
    "CHAKRA.dom(::Data) = [Id{i}() for i in idx]\n",
    "\n",
    "__data__ = Data()\n",
    "\n",
    "end\n",
    "\n",
    "using Main.Events\n",
    "dom(Events)"
   ]
  },
  {
   "cell_type": "code",
   "execution_count": 17,
   "id": "740a6b4a-d538-4264-9166-419a172ce851",
   "metadata": {},
   "outputs": [
    {
     "data": {
      "text/plain": [
       "Main.Events.Event{1}()"
      ]
     },
     "execution_count": 17,
     "metadata": {},
     "output_type": "execute_result"
    }
   ],
   "source": [
    "e = fnd(Events.Id{1}(),Events)"
   ]
  },
  {
   "cell_type": "code",
   "execution_count": 18,
   "id": "4a439c66-a42d-4a3f-ae11-aa3c779d2d30",
   "metadata": {},
   "outputs": [
    {
     "data": {
      "text/plain": [
       "Main.CHAKRA.Id[]"
      ]
     },
     "execution_count": 18,
     "metadata": {},
     "output_type": "execute_result"
    }
   ],
   "source": [
    "pts(e)"
   ]
  },
  {
   "cell_type": "code",
   "execution_count": 19,
   "id": "b088a962-8b39-4318-a8aa-cede23499a66",
   "metadata": {},
   "outputs": [
    {
     "data": {
      "text/plain": [
       "\"Arkite Event\""
      ]
     },
     "execution_count": 19,
     "metadata": {},
     "output_type": "execute_result"
    }
   ],
   "source": [
    "getp(:TYPE,e)"
   ]
  },
  {
   "cell_type": "code",
   "execution_count": 20,
   "id": "f17efb68-518b-45c8-91ac-7face77aacd7",
   "metadata": {},
   "outputs": [
    {
     "data": {
      "text/plain": [
       "\"26/04/2023 16:51:33\""
      ]
     },
     "execution_count": 20,
     "metadata": {},
     "output_type": "execute_result"
    }
   ],
   "source": [
    "geta(:START_TIME,e)"
   ]
  },
  {
   "cell_type": "markdown",
   "id": "25f2933e-cc1b-4fd2-a1ad-bb995c31c0b3",
   "metadata": {},
   "source": [
    "<a id='Seqs'></a>\n",
    "## Seqs"
   ]
  },
  {
   "cell_type": "code",
   "execution_count": 22,
   "id": "b19ba6a6-3e65-4e45-b75b-08d38d79414d",
   "metadata": {},
   "outputs": [
    {
     "data": {
      "text/plain": [
       "Main.Seqs"
      ]
     },
     "execution_count": 22,
     "metadata": {},
     "output_type": "execute_result"
    }
   ],
   "source": [
    "module Seqs\n",
    "\n",
    "using Main.CHAKRA\n",
    "using Main.Events\n",
    "\n",
    "seqs = [1:4...]\n",
    "seqparts(T) = [Events.Id{S}() for S in T*10-9:T*10]\n",
    "\n",
    "struct Id{N} <: CHAKRA.Id end\n",
    "struct Seq{N} <: CHAKRA.Constituent end\n",
    "struct Data <: CHAKRA.Hierarchy end\n",
    "\n",
    "struct SEQ_TYPE <: CHAKRA.Property{:SEQ_TYPE,String} end\n",
    "CHAKRA.__properties__(::Val{:SEQ_TYPE}) = SEQ_TYPE()\n",
    "\n",
    "CHAKRA.fnd(::Id{N},::Data) where N = Seq{N}()\n",
    "CHAKRA.pts(::Seq{N}) where N = seqparts(N)\n",
    "CHAKRA.getp(::TYPE,::Seq) = \"Arkite Sequence\"\n",
    "CHAKRA.getp(::SEQ_TYPE,::Seq) = \"Successful Assembly\"\n",
    "CHAKRA.dom(::Data) = [Id{N}() for N in seqs]\n",
    "\n",
    "__data__ = Data()\n",
    "\n",
    "end"
   ]
  },
  {
   "cell_type": "markdown",
   "id": "dae0b47e-aacd-441f-9d64-086fc812baad",
   "metadata": {},
   "source": [
    "<a id='chunks'></a>\n",
    "## Chunks"
   ]
  },
  {
   "cell_type": "code",
   "execution_count": 24,
   "id": "3e491a78-56cd-4c34-bdf2-922e41f138ba",
   "metadata": {},
   "outputs": [
    {
     "data": {
      "text/plain": [
       "Main.Chunks"
      ]
     },
     "execution_count": 24,
     "metadata": {},
     "output_type": "execute_result"
    }
   ],
   "source": [
    "module Chunks\n",
    "\n",
    "using Main.CHAKRA\n",
    "using Main.Events\n",
    "\n",
    "chunks = [1:20...]\n",
    "chunkparts(I) = [Events.Id{I*2-1}(),Events.Id{I*2}()]\n",
    "\n",
    "struct Id{I} <: CHAKRA.Id end\n",
    "struct Chunk{I} <: CHAKRA.Constituent end\n",
    "struct Data <: CHAKRA.Hierarchy end\n",
    "\n",
    "CHAKRA.fnd(::Id{I},::Data) where I = Chunk{I}()\n",
    "CHAKRA.pts(::Chunk{I}) where I = chunkparts(I)\n",
    "CHAKRA.getp(::TYPE,::Chunk) = \"Arkite Chunk\"\n",
    "CHAKRA.dom(::Data) = [Id{N}() for N in chunks]\n",
    "\n",
    "__data__ = Data()\n",
    "\n",
    "end"
   ]
  },
  {
   "cell_type": "markdown",
   "id": "672cd640-f96d-464f-96b4-04cbe113a6a7",
   "metadata": {},
   "source": [
    "<a id='ChunkSeqs'></a>\n",
    "## ChunkSeqs"
   ]
  },
  {
   "cell_type": "code",
   "execution_count": 26,
   "id": "339f6417-0058-4025-98ef-d80728949264",
   "metadata": {},
   "outputs": [
    {
     "data": {
      "text/plain": [
       "Main.ChunkSeqs"
      ]
     },
     "execution_count": 26,
     "metadata": {},
     "output_type": "execute_result"
    }
   ],
   "source": [
    "module ChunkSeqs\n",
    "\n",
    "using Main.CHAKRA\n",
    "using Main.Chunks\n",
    "\n",
    "chunkseqs = [1:4...]\n",
    "parts(N) = [Chunks.Id{N*5-i}() for i in reverse([0:4...])] \n",
    "\n",
    "struct Id{N} <: CHAKRA.Id end\n",
    "struct ChunkSeq{N} <: CHAKRA.Constituent end\n",
    "struct Data <: CHAKRA.Hierarchy end\n",
    "\n",
    "CHAKRA.fnd(::Id{N},::Data) where N = ChunkSeq{N}()\n",
    "CHAKRA.pts(::ChunkSeq{N}) where N = parts(N)\n",
    "CHAKRA.getp(::TYPE,::ChunkSeq) = \"Chunk Sequence\"\n",
    "CHAKRA.dom(::Data) = [Id{N}() for N in chunkseqs]\n",
    "\n",
    "__data__ = Data()\n",
    "\n",
    "end"
   ]
  },
  {
   "cell_type": "markdown",
   "id": "ce8430d3-512a-4172-8672-003703605619",
   "metadata": {},
   "source": [
    "<a id='SeqEx'></a>\n",
    "## SeqEx"
   ]
  },
  {
   "cell_type": "code",
   "execution_count": 28,
   "id": "2edd7884-ae42-419f-a84c-cac36e56325b",
   "metadata": {},
   "outputs": [
    {
     "data": {
      "text/plain": [
       "Main.SeqEx"
      ]
     },
     "execution_count": 28,
     "metadata": {},
     "output_type": "execute_result"
    }
   ],
   "source": [
    "module SeqEx\n",
    "\n",
    "using Main.CHAKRA\n",
    "using Main.Seqs\n",
    "using Main.DWI\n",
    "\n",
    "wf = DWI.Workflow.Id()\n",
    "\n",
    "execs = [1:4...]\n",
    "ps(N) = CHAKRA.Id[Seqs.Id{N}(),wf]\n",
    "\n",
    "struct Id{N} <: CHAKRA.Id end\n",
    "struct Exec{N} <: CHAKRA.Constituent end\n",
    "struct Data <: CHAKRA.Hierarchy end\n",
    "\n",
    "CHAKRA.fnd(::Id{N},::Data) where N = Exec{N}()\n",
    "CHAKRA.pts(::Exec{N}) where N = ps(N)\n",
    "CHAKRA.getp(::TYPE,::Exec) = \"isExecutionOf\"\n",
    "CHAKRA.dom(::Data) = [Id{N}() for N in execs]\n",
    "\n",
    "__data__ = Data()\n",
    "\n",
    "end"
   ]
  },
  {
   "cell_type": "markdown",
   "id": "a97a30f6-84ca-4fb4-b196-7bdd520b881d",
   "metadata": {},
   "source": [
    "<a id='ChunkEx'></a>\n",
    "## ChunkEx"
   ]
  },
  {
   "cell_type": "code",
   "execution_count": 30,
   "id": "fab67cb7-cd44-4fa3-9090-678077c82db0",
   "metadata": {},
   "outputs": [
    {
     "data": {
      "text/plain": [
       "Main.ChunkEx"
      ]
     },
     "execution_count": 30,
     "metadata": {},
     "output_type": "execute_result"
    }
   ],
   "source": [
    "module ChunkEx\n",
    "\n",
    "using Main.CHAKRA\n",
    "using Main.Chunks\n",
    "using Main.DWI\n",
    "\n",
    "execs = [1:16...]\n",
    "steps = [DWI.Steps.Id{N}() for N in 1:6]\n",
    "arcs = Dict([0=>6,1=>1,2=>4,3=>5])\n",
    "ps(N) = CHAKRA.Id[Chunks.Id{N}(),steps[arcs[N%4]]]\n",
    "\n",
    "struct Id{N} <: CHAKRA.Id end\n",
    "struct Exec{N} <: CHAKRA.Constituent end\n",
    "struct Data <: CHAKRA.Hierarchy end\n",
    "\n",
    "CHAKRA.fnd(::Id{N},::Data) where N = Exec{N}()\n",
    "CHAKRA.pts(::Exec{N}) where N = ps(N)\n",
    "CHAKRA.getp(::TYPE,::Exec) = \"isExecutionOf\"\n",
    "CHAKRA.dom(::Data) = [Id{N}() for N in execs]\n",
    "\n",
    "__data__ = Data()\n",
    "\n",
    "end"
   ]
  },
  {
   "cell_type": "markdown",
   "id": "ebcbad13-5336-4001-8b1a-63d21abe9246",
   "metadata": {},
   "source": [
    "<a id='KB'></a>\n",
    "## KB"
   ]
  },
  {
   "cell_type": "code",
   "execution_count": 32,
   "id": "033651e1-a1c5-4b6a-b9d3-9d8e6a62c977",
   "metadata": {},
   "outputs": [
    {
     "data": {
      "text/plain": [
       "Main.KB"
      ]
     },
     "execution_count": 32,
     "metadata": {},
     "output_type": "execute_result"
    }
   ],
   "source": [
    "module KB\n",
    "\n",
    "using Main.CHAKRA\n",
    "using Main.Events\n",
    "using Main.Seqs\n",
    "using Main.Chunks\n",
    "using Main.ChunkSeqs\n",
    "using Main.DWI\n",
    "using Main.SeqEx\n",
    "using Main.ChunkEx\n",
    "\n",
    "struct Data <: CHAKRA.Hierarchy end\n",
    "\n",
    "CHAKRA.fnd(x::ID,::Data) where {ID<:CHAKRA.Id} = fnd(x,parentmodule(ID))\n",
    "CHAKRA.dom(::Data) = [dom(ChunkEx)...,dom(SeqEx)...,dom(ChunkSeqs)...,dom(Chunks)...,dom(Seqs)...,dom(Events)...,dom(DWI)...]\n",
    "\n",
    "__data__ = Data()\n",
    "\n",
    "end"
   ]
  },
  {
   "cell_type": "code",
   "execution_count": 33,
   "id": "f484a65f-df87-4da0-af48-bf9c12639cd7",
   "metadata": {},
   "outputs": [
    {
     "data": {
      "text/plain": [
       "Main.ChunkSeqs.ChunkSeq{1}()"
      ]
     },
     "execution_count": 33,
     "metadata": {},
     "output_type": "execute_result"
    }
   ],
   "source": [
    "using .KB\n",
    "dom(KB)\n",
    "fnd(Main.ChunkSeqs.Id{1}(),KB)"
   ]
  },
  {
   "cell_type": "markdown",
   "id": "6ead4bba-242b-48e4-ba0c-c055130f2767",
   "metadata": {},
   "source": [
    "<a id='query-language'></a>\n",
    "## Query Language"
   ]
  },
  {
   "cell_type": "code",
   "execution_count": 35,
   "id": "18249757-a6c7-4f0e-b9c4-74131a6d0e35",
   "metadata": {},
   "outputs": [
    {
     "data": {
      "text/plain": [
       "istree (generic function with 1 method)"
      ]
     },
     "execution_count": 35,
     "metadata": {},
     "output_type": "execute_result"
    }
   ],
   "source": [
    "PAIR(X,Y) = Pair{x,y} where {x<:X,y<:Y}\n",
    "LST(X) = Vector{x} where {x<:X}\n",
    "OPT(X) = Union{X,CHAKRA.None}\n",
    "ID = CHAKRA.Id\n",
    "C = CHAKRA.Constituent\n",
    "CON = PAIR(ID,C)\n",
    "G = LST(CON)\n",
    "\n",
    "domain(cs::G) = first.(cs)\n",
    "\n",
    "mem(x::ID,cs::G)::Bool = x in domain(cs)\n",
    "mem(xs::LST(ID),cs::G) = all([mem(x,cs) for x in xs])\n",
    "\n",
    "position(x::ID,cs::G) = findfirst(==(x),domain(cs))\n",
    "\n",
    "lookup(x::ID,cs::G) = mem(x,cs) ? cs[position(x,cs)] : none\n",
    "\n",
    "lookup(xs::LST(ID),cs::G) = begin\n",
    "    res = Pair{CHAKRA.Id,CHAKRA.Constituent}[]\n",
    "    for x in xs\n",
    "        c = lookup(x,cs)\n",
    "        c == none && return none\n",
    "        union!(res,[c])\n",
    "    end\n",
    "    return res\n",
    "end\n",
    "\n",
    "pop(x::ID,cs::G) = begin \n",
    "    !mem(x,cs) && return CON[]\n",
    "    return cs[position(x,cs):end]\n",
    "end\n",
    "\n",
    "parts(x::ID,cs::G) = begin \n",
    "    !mem(x,cs) && return none\n",
    "    c = lookup(x,cs)\n",
    "    return lookup(pts(c[2]),cs)\n",
    "end\n",
    "parts(c::CON,cs::G) = lookup(pts(c[2]),cs)\n",
    "\n",
    "subparts(x::ID,cs::G) = begin\n",
    "    isempty(cs) && return CON[]\n",
    "    c = lookup(x,cs)\n",
    "    c == none && return CON[]\n",
    "    res = CON[c]\n",
    "    ps = pts(c[2])\n",
    "    for p in ps\n",
    "        union!(res,subparts(p,pop(p,cs)))\n",
    "    end\n",
    "    return res\n",
    "end\n",
    "\n",
    "subparts(xs::LST(ID),cs::G) = begin\n",
    "    res = CON[]\n",
    "    [union!(res,subparts(x,cs)) for x in xs]\n",
    "    return [c for c in cs if c in res]\n",
    "end\n",
    "\n",
    "superparts(x::ID,cs::G) = begin\n",
    "    isempty(cs) && return CON[]\n",
    "    c = lookup(x,cs)\n",
    "    c == none && return CON[]\n",
    "    res = CON[c]\n",
    "    for c2 in reverse(cs[1:position(x,cs)])\n",
    "        if x in pts(c2[2])\n",
    "            push!(res,c2)\n",
    "            union!(res,superparts(c2[1],cs))\n",
    "        end\n",
    "    end\n",
    "    return reverse(res)\n",
    "end\n",
    "\n",
    "superparts(xs::LST(ID),cs::G) = begin \n",
    "    res = CON[]\n",
    "    [union!(res,superparts(x,cs)) for x in xs]\n",
    "    return [c for c in cs if c in res]\n",
    "end\n",
    "\n",
    "haspart(x::ID,y::ID,cs::G) = begin\n",
    "    !(mem(x,cs)) && return false\n",
    "    return y in first.(parts(x,cs))\n",
    "end\n",
    "\n",
    "ispartof(x::ID,y::ID,cs::G) = haspart(y,x,cs)\n",
    "\n",
    "hassubpart(x,y,cs) = begin\n",
    "    y in first.(subparts(x,cs))\n",
    "end\n",
    "\n",
    "issubpartof(x::ID,y::ID,cs::G) = hassubpart(y,x,cs)\n",
    "\n",
    "isdag(cs::G) = begin \n",
    "    isempty(cs) && return true\n",
    "    x,c = cs[1]\n",
    "    t = cs[2:end]\n",
    "    ps = pts(c)\n",
    "    mem(x,t) && (print(\"!!!\"); return false)\n",
    "    !mem(ps,t) && (print(\"!!!$x\"); return false)\n",
    "    !isdag(t) && (print(\"!!!\"); return false)\n",
    "    return true\n",
    "end\n",
    "isleaf(x::ID,cs::G) = begin \n",
    "    c = lookup(x,cs) \n",
    "    return c != none && isempty(pts(c[2]))\n",
    "end\n",
    "istree(cs::G) = begin\n",
    "    isempty(cs) && return true\n",
    "    x,c = cs[1]\n",
    "    t = cs[2:end]\n",
    "    sps = [subparts(p[1],cs) for p in parts(x,cs)]\n",
    "    for p in parts(x)\n",
    "        return isleaf(p,cs) || istree(p,cs)\n",
    "    end\n",
    "end"
   ]
  },
  {
   "cell_type": "code",
   "execution_count": 36,
   "id": "4e6a2ed3",
   "metadata": {},
   "outputs": [
    {
     "data": {
      "text/plain": [
       "Main.ChunkEx.Id{1}()"
      ]
     },
     "execution_count": 36,
     "metadata": {},
     "output_type": "execute_result"
    }
   ],
   "source": [
    "wf = DWI.Workflow.Id()::ID\n",
    "xs = dom(KB);\n",
    "cs = cts(KB);\n",
    "x = xs[1]"
   ]
  },
  {
   "cell_type": "code",
   "execution_count": 37,
   "id": "fa73e467-6755-4c02-9333-47fff8a42332",
   "metadata": {},
   "outputs": [
    {
     "data": {
      "text/plain": [
       "95-element Vector{Pair{Main.CHAKRA.Id, Main.CHAKRA.Constituent}}:\n",
       "   Main.ChunkEx.Id{1}() => Main.ChunkEx.Exec{1}()\n",
       "   Main.ChunkEx.Id{2}() => Main.ChunkEx.Exec{2}()\n",
       "   Main.ChunkEx.Id{3}() => Main.ChunkEx.Exec{3}()\n",
       "   Main.ChunkEx.Id{4}() => Main.ChunkEx.Exec{4}()\n",
       "   Main.ChunkEx.Id{5}() => Main.ChunkEx.Exec{5}()\n",
       "   Main.ChunkEx.Id{6}() => Main.ChunkEx.Exec{6}()\n",
       "   Main.ChunkEx.Id{7}() => Main.ChunkEx.Exec{7}()\n",
       "   Main.ChunkEx.Id{8}() => Main.ChunkEx.Exec{8}()\n",
       "   Main.ChunkEx.Id{9}() => Main.ChunkEx.Exec{9}()\n",
       "  Main.ChunkEx.Id{10}() => Main.ChunkEx.Exec{10}()\n",
       "  Main.ChunkEx.Id{11}() => Main.ChunkEx.Exec{11}()\n",
       "  Main.ChunkEx.Id{12}() => Main.ChunkEx.Exec{12}()\n",
       "  Main.ChunkEx.Id{13}() => Main.ChunkEx.Exec{13}()\n",
       "                        ⋮\n",
       "   Main.Events.Id{36}() => Main.Events.Event{36}()\n",
       "   Main.Events.Id{37}() => Main.Events.Event{37}()\n",
       "   Main.Events.Id{38}() => Main.Events.Event{38}()\n",
       "   Main.Events.Id{39}() => Main.Events.Event{39}()\n",
       "   Main.Events.Id{40}() => Main.Events.Event{40}()\n",
       " Main.DWI.Workflow.Id() => Main.DWI.Workflow.WF()\n",
       " Main.DWI.Steps.Id{1}() => Main.DWI.Steps.Step{1}()\n",
       " Main.DWI.Steps.Id{2}() => Main.DWI.Steps.Step{2}()\n",
       " Main.DWI.Steps.Id{3}() => Main.DWI.Steps.Step{3}()\n",
       " Main.DWI.Steps.Id{4}() => Main.DWI.Steps.Step{4}()\n",
       " Main.DWI.Steps.Id{5}() => Main.DWI.Steps.Step{5}()\n",
       " Main.DWI.Steps.Id{6}() => Main.DWI.Steps.Step{6}()"
      ]
     },
     "execution_count": 37,
     "metadata": {},
     "output_type": "execute_result"
    }
   ],
   "source": [
    "cs"
   ]
  },
  {
   "cell_type": "code",
   "execution_count": 38,
   "id": "c3df2c61-a3db-4326-95b2-4fe4cf6939e6",
   "metadata": {},
   "outputs": [
    {
     "data": {
      "text/plain": [
       "10"
      ]
     },
     "execution_count": 38,
     "metadata": {},
     "output_type": "execute_result"
    }
   ],
   "source": [
    "position(xs[10],cs)"
   ]
  },
  {
   "cell_type": "code",
   "execution_count": 39,
   "id": "572fce79-d0eb-4efe-bf5b-3d78990f6a18",
   "metadata": {},
   "outputs": [
    {
     "data": {
      "text/plain": [
       "true"
      ]
     },
     "execution_count": 39,
     "metadata": {},
     "output_type": "execute_result"
    }
   ],
   "source": [
    "mem(x,cs)"
   ]
  },
  {
   "cell_type": "code",
   "execution_count": 40,
   "id": "61a2b9a0-b9aa-4f59-80b5-331524974d2c",
   "metadata": {},
   "outputs": [
    {
     "data": {
      "text/plain": [
       "Pair{Main.CHAKRA.Id, Main.CHAKRA.Constituent}(Main.ChunkEx.Id{1}(), Main.ChunkEx.Exec{1}())"
      ]
     },
     "execution_count": 40,
     "metadata": {},
     "output_type": "execute_result"
    }
   ],
   "source": [
    "lookup(x,cs)"
   ]
  },
  {
   "cell_type": "code",
   "execution_count": 41,
   "id": "02f24cc8-808d-4e84-b527-f8c9ea79fbaf",
   "metadata": {},
   "outputs": [
    {
     "data": {
      "text/plain": [
       "20-element Vector{Pair{Main.CHAKRA.Id, Main.CHAKRA.Constituent}}:\n",
       "  Main.ChunkEx.Id{1}() => Main.ChunkEx.Exec{1}()\n",
       "  Main.ChunkEx.Id{2}() => Main.ChunkEx.Exec{2}()\n",
       "  Main.ChunkEx.Id{3}() => Main.ChunkEx.Exec{3}()\n",
       "  Main.ChunkEx.Id{4}() => Main.ChunkEx.Exec{4}()\n",
       "  Main.ChunkEx.Id{5}() => Main.ChunkEx.Exec{5}()\n",
       "  Main.ChunkEx.Id{6}() => Main.ChunkEx.Exec{6}()\n",
       "  Main.ChunkEx.Id{7}() => Main.ChunkEx.Exec{7}()\n",
       "  Main.ChunkEx.Id{8}() => Main.ChunkEx.Exec{8}()\n",
       "  Main.ChunkEx.Id{9}() => Main.ChunkEx.Exec{9}()\n",
       " Main.ChunkEx.Id{10}() => Main.ChunkEx.Exec{10}()\n",
       " Main.ChunkEx.Id{11}() => Main.ChunkEx.Exec{11}()\n",
       " Main.ChunkEx.Id{12}() => Main.ChunkEx.Exec{12}()\n",
       " Main.ChunkEx.Id{13}() => Main.ChunkEx.Exec{13}()\n",
       " Main.ChunkEx.Id{14}() => Main.ChunkEx.Exec{14}()\n",
       " Main.ChunkEx.Id{15}() => Main.ChunkEx.Exec{15}()\n",
       " Main.ChunkEx.Id{16}() => Main.ChunkEx.Exec{16}()\n",
       "    Main.SeqEx.Id{1}() => Main.SeqEx.Exec{1}()\n",
       "    Main.SeqEx.Id{2}() => Main.SeqEx.Exec{2}()\n",
       "    Main.SeqEx.Id{3}() => Main.SeqEx.Exec{3}()\n",
       "    Main.SeqEx.Id{4}() => Main.SeqEx.Exec{4}()"
      ]
     },
     "execution_count": 41,
     "metadata": {},
     "output_type": "execute_result"
    }
   ],
   "source": [
    "lookup(xs[1:20],cs)"
   ]
  },
  {
   "cell_type": "code",
   "execution_count": 42,
   "id": "5edb8d8a-d7a7-4f89-920c-0ba11d1df1da",
   "metadata": {},
   "outputs": [
    {
     "data": {
      "text/plain": [
       "46-element Vector{Pair{Main.CHAKRA.Id, Main.CHAKRA.Constituent}}:\n",
       "    Main.Events.Id{2}() => Main.Events.Event{2}()\n",
       "    Main.Events.Id{3}() => Main.Events.Event{3}()\n",
       "    Main.Events.Id{4}() => Main.Events.Event{4}()\n",
       "    Main.Events.Id{5}() => Main.Events.Event{5}()\n",
       "    Main.Events.Id{6}() => Main.Events.Event{6}()\n",
       "    Main.Events.Id{7}() => Main.Events.Event{7}()\n",
       "    Main.Events.Id{8}() => Main.Events.Event{8}()\n",
       "    Main.Events.Id{9}() => Main.Events.Event{9}()\n",
       "   Main.Events.Id{10}() => Main.Events.Event{10}()\n",
       "   Main.Events.Id{11}() => Main.Events.Event{11}()\n",
       "   Main.Events.Id{12}() => Main.Events.Event{12}()\n",
       "   Main.Events.Id{13}() => Main.Events.Event{13}()\n",
       "   Main.Events.Id{14}() => Main.Events.Event{14}()\n",
       "                        ⋮\n",
       "   Main.Events.Id{36}() => Main.Events.Event{36}()\n",
       "   Main.Events.Id{37}() => Main.Events.Event{37}()\n",
       "   Main.Events.Id{38}() => Main.Events.Event{38}()\n",
       "   Main.Events.Id{39}() => Main.Events.Event{39}()\n",
       "   Main.Events.Id{40}() => Main.Events.Event{40}()\n",
       " Main.DWI.Workflow.Id() => Main.DWI.Workflow.WF()\n",
       " Main.DWI.Steps.Id{1}() => Main.DWI.Steps.Step{1}()\n",
       " Main.DWI.Steps.Id{2}() => Main.DWI.Steps.Step{2}()\n",
       " Main.DWI.Steps.Id{3}() => Main.DWI.Steps.Step{3}()\n",
       " Main.DWI.Steps.Id{4}() => Main.DWI.Steps.Step{4}()\n",
       " Main.DWI.Steps.Id{5}() => Main.DWI.Steps.Step{5}()\n",
       " Main.DWI.Steps.Id{6}() => Main.DWI.Steps.Step{6}()"
      ]
     },
     "execution_count": 42,
     "metadata": {},
     "output_type": "execute_result"
    }
   ],
   "source": [
    "pop(xs[50],cs)"
   ]
  },
  {
   "cell_type": "code",
   "execution_count": 43,
   "id": "a37fd35e-9964-4b64-a56c-064046713e90",
   "metadata": {},
   "outputs": [
    {
     "data": {
      "text/plain": [
       "2-element Vector{Main.CHAKRA.Id}:\n",
       " Main.Chunks.Id{1}()\n",
       " Main.DWI.Steps.Id{1}()"
      ]
     },
     "execution_count": 43,
     "metadata": {},
     "output_type": "execute_result"
    }
   ],
   "source": [
    "xs[1]\n",
    "pts(lookup(xs[1],cs)[2])"
   ]
  },
  {
   "cell_type": "code",
   "execution_count": 44,
   "id": "f58bf273-51c4-4a40-952b-d40d6a1895cf",
   "metadata": {},
   "outputs": [
    {
     "data": {
      "text/plain": [
       "2-element Vector{Pair{Main.CHAKRA.Id, Main.CHAKRA.Constituent}}:\n",
       "    Main.Chunks.Id{1}() => Main.Chunks.Chunk{1}()\n",
       " Main.DWI.Steps.Id{1}() => Main.DWI.Steps.Step{1}()"
      ]
     },
     "execution_count": 44,
     "metadata": {},
     "output_type": "execute_result"
    }
   ],
   "source": [
    "parts(xs[1],cs)"
   ]
  },
  {
   "cell_type": "code",
   "execution_count": 45,
   "id": "ef4d31a1-bc6a-41e0-90c9-3ea850c6b152",
   "metadata": {},
   "outputs": [
    {
     "data": {
      "text/plain": [
       "5-element Vector{Pair{x, y} where {x<:Main.CHAKRA.Id, y<:Main.CHAKRA.Constituent}}:\n",
       " Pair{Main.CHAKRA.Id, Main.CHAKRA.Constituent}(Main.ChunkEx.Id{1}(), Main.ChunkEx.Exec{1}())\n",
       " Pair{Main.CHAKRA.Id, Main.CHAKRA.Constituent}(Main.Chunks.Id{1}(), Main.Chunks.Chunk{1}())\n",
       " Pair{Main.CHAKRA.Id, Main.CHAKRA.Constituent}(Main.Events.Id{1}(), Main.Events.Event{1}())\n",
       " Pair{Main.CHAKRA.Id, Main.CHAKRA.Constituent}(Main.Events.Id{2}(), Main.Events.Event{2}())\n",
       " Pair{Main.CHAKRA.Id, Main.CHAKRA.Constituent}(Main.DWI.Steps.Id{1}(), Main.DWI.Steps.Step{1}())"
      ]
     },
     "execution_count": 45,
     "metadata": {},
     "output_type": "execute_result"
    }
   ],
   "source": [
    "subparts(x,cs)"
   ]
  },
  {
   "cell_type": "code",
   "execution_count": 46,
   "id": "7c809632-f01e-4f12-a5e8-906ef0a9688c",
   "metadata": {},
   "outputs": [
    {
     "data": {
      "text/plain": [
       "10-element Vector{Pair{Main.CHAKRA.Id, Main.CHAKRA.Constituent}}:\n",
       "   Main.ChunkEx.Id{1}() => Main.ChunkEx.Exec{1}()\n",
       "   Main.ChunkEx.Id{2}() => Main.ChunkEx.Exec{2}()\n",
       "    Main.Chunks.Id{1}() => Main.Chunks.Chunk{1}()\n",
       "    Main.Chunks.Id{2}() => Main.Chunks.Chunk{2}()\n",
       "    Main.Events.Id{1}() => Main.Events.Event{1}()\n",
       "    Main.Events.Id{2}() => Main.Events.Event{2}()\n",
       "    Main.Events.Id{3}() => Main.Events.Event{3}()\n",
       "    Main.Events.Id{4}() => Main.Events.Event{4}()\n",
       " Main.DWI.Steps.Id{1}() => Main.DWI.Steps.Step{1}()\n",
       " Main.DWI.Steps.Id{4}() => Main.DWI.Steps.Step{4}()"
      ]
     },
     "execution_count": 46,
     "metadata": {},
     "output_type": "execute_result"
    }
   ],
   "source": [
    "subparts(xs[1:2],cs)"
   ]
  },
  {
   "cell_type": "code",
   "execution_count": 47,
   "id": "76a0f19d-d338-44b1-aea7-bba2ca482de7",
   "metadata": {},
   "outputs": [
    {
     "data": {
      "text/plain": [
       "10-element Vector{Pair{x, y} where {x<:Main.CHAKRA.Id, y<:Main.CHAKRA.Constituent}}:\n",
       " Pair{Main.CHAKRA.Id, Main.CHAKRA.Constituent}(Main.ChunkEx.Id{4}(), Main.ChunkEx.Exec{4}())\n",
       " Pair{Main.CHAKRA.Id, Main.CHAKRA.Constituent}(Main.ChunkEx.Id{8}(), Main.ChunkEx.Exec{8}())\n",
       " Pair{Main.CHAKRA.Id, Main.CHAKRA.Constituent}(Main.ChunkEx.Id{12}(), Main.ChunkEx.Exec{12}())\n",
       " Pair{Main.CHAKRA.Id, Main.CHAKRA.Constituent}(Main.ChunkEx.Id{16}(), Main.ChunkEx.Exec{16}())\n",
       " Pair{Main.CHAKRA.Id, Main.CHAKRA.Constituent}(Main.SeqEx.Id{4}(), Main.SeqEx.Exec{4}())\n",
       " Pair{Main.CHAKRA.Id, Main.CHAKRA.Constituent}(Main.SeqEx.Id{3}(), Main.SeqEx.Exec{3}())\n",
       " Pair{Main.CHAKRA.Id, Main.CHAKRA.Constituent}(Main.SeqEx.Id{2}(), Main.SeqEx.Exec{2}())\n",
       " Pair{Main.CHAKRA.Id, Main.CHAKRA.Constituent}(Main.SeqEx.Id{1}(), Main.SeqEx.Exec{1}())\n",
       " Pair{Main.CHAKRA.Id, Main.CHAKRA.Constituent}(Main.DWI.Workflow.Id(), Main.DWI.Workflow.WF())\n",
       " Pair{Main.CHAKRA.Id, Main.CHAKRA.Constituent}(Main.DWI.Steps.Id{6}(), Main.DWI.Steps.Step{6}())"
      ]
     },
     "execution_count": 47,
     "metadata": {},
     "output_type": "execute_result"
    }
   ],
   "source": [
    "superparts(DWI.Steps.Id{6}(),cs)"
   ]
  },
  {
   "cell_type": "code",
   "execution_count": 48,
   "id": "d1678120-9ab0-4a41-9a35-4ba582b4db6c",
   "metadata": {},
   "outputs": [
    {
     "data": {
      "text/plain": [
       "true"
      ]
     },
     "execution_count": 48,
     "metadata": {},
     "output_type": "execute_result"
    }
   ],
   "source": [
    "mem(SeqEx.Id{1}(),cs)"
   ]
  },
  {
   "cell_type": "code",
   "execution_count": 49,
   "id": "3c5813cc-e235-4a75-bcb0-629213c9c32b",
   "metadata": {},
   "outputs": [
    {
     "data": {
      "text/plain": [
       "true"
      ]
     },
     "execution_count": 49,
     "metadata": {},
     "output_type": "execute_result"
    }
   ],
   "source": [
    "haspart(ChunkSeqs.Id{1}(),Chunks.Id{1}(),cs)"
   ]
  },
  {
   "cell_type": "code",
   "execution_count": 50,
   "id": "ab10b69c-0bdf-41d4-bc56-e48b0a00d0c4",
   "metadata": {},
   "outputs": [
    {
     "data": {
      "text/plain": [
       "true"
      ]
     },
     "execution_count": 50,
     "metadata": {},
     "output_type": "execute_result"
    }
   ],
   "source": [
    "haspart(DWI.Workflow.Id(),DWI.Steps.Id{1}(),cs)"
   ]
  },
  {
   "cell_type": "code",
   "execution_count": 51,
   "id": "868d0738-e894-4087-8d25-2ff2328bce23",
   "metadata": {},
   "outputs": [
    {
     "data": {
      "text/plain": [
       "false"
      ]
     },
     "execution_count": 51,
     "metadata": {},
     "output_type": "execute_result"
    }
   ],
   "source": [
    "haspart(SeqEx.Id{1}(),Events.Id{5}(),cs)"
   ]
  },
  {
   "cell_type": "code",
   "execution_count": 52,
   "id": "86b24b6b-acdf-4e31-8e61-7efb4e58e9a0",
   "metadata": {},
   "outputs": [
    {
     "data": {
      "text/plain": [
       "true"
      ]
     },
     "execution_count": 52,
     "metadata": {},
     "output_type": "execute_result"
    }
   ],
   "source": [
    "hassubpart(SeqEx.Id{1}(),Events.Id{5}(),cs)"
   ]
  },
  {
   "cell_type": "code",
   "execution_count": 53,
   "id": "c6bd89fd-6ac5-435a-afab-89e148fed85f",
   "metadata": {},
   "outputs": [
    {
     "data": {
      "text/plain": [
       "false"
      ]
     },
     "execution_count": 53,
     "metadata": {},
     "output_type": "execute_result"
    }
   ],
   "source": [
    "hassubpart(SeqEx.Id{1}(),Events.Id{15}(),cs)"
   ]
  },
  {
   "cell_type": "code",
   "execution_count": 54,
   "id": "4efb73ac-a991-4f70-bf71-fa1c64bc6402",
   "metadata": {},
   "outputs": [
    {
     "data": {
      "text/plain": [
       "true"
      ]
     },
     "execution_count": 54,
     "metadata": {},
     "output_type": "execute_result"
    }
   ],
   "source": [
    "isdag(cs)"
   ]
  },
  {
   "cell_type": "code",
   "execution_count": 55,
   "id": "189ad477-2c3c-4bbe-87f4-5ee1271c7212",
   "metadata": {},
   "outputs": [],
   "source": [
    "PTY{N,T} = CHAKRA.Property{N,t} where {t<:T}\n",
    "ATT{N,T} = CHAKRA.Attribute{N,t} where {t<:T}\n",
    "\n",
    "# READ(A) : G -> option A x G \n",
    "\n",
    "abstract type READ{A} end\n",
    "\n",
    "(R::READ{A})(cs::G) where A = R.op(cs)::option{A}\n",
    "\n",
    "struct Read{A} <: READ{A}\n",
    "    op::Function\n",
    "    Read(A,f) = new{A}(f)\n",
    "    Read(A) = new{A}(cs->none)\n",
    "end\n",
    "\n",
    "abstract type KLEISLI{A,B} end\n",
    "\n",
    "function (K::KLEISLI{A,B})(a) where {A,B}\n",
    "    a==none && return Read(B)\n",
    "    Read(B,K.op(a))\n",
    "end\n",
    "\n",
    "function(K::KLEISLI{A,B})(a::A,cs::G) where {A,B}\n",
    "    K(a)(cs)\n",
    "end\n",
    "\n",
    "struct BIND{A,B} <: READ{B}\n",
    "    op\n",
    "    BIND(R::READ{A},F::KLEISLI{A,B}) where {A,B} = new{A,B}(cs->F(R(cs),cs))\n",
    "end\n",
    "\n",
    "struct FISH{A,B} <: KLEISLI{A,B}\n",
    "    op\n",
    "    FISH(F::KLEISLI{A,B},G::KLEISLI{B,C}) where {A,B,C} = new{A,C}(x->cs->G(F(x,cs),cs))\n",
    "end\n",
    "\n",
    "FISH(f::KLEISLI,gs::KLEISLI...) = isempty(gs) ? f : FISH(f,FISH(gs...))\n",
    "\n",
    "QUERY(R::READ,KS::KLEISLI...) = BIND(R,FISH(KS...))\n",
    "\n",
    "struct PTS <: KLEISLI{CON,LST(CON)}\n",
    "    op\n",
    "    PTS() = new(c->cs->parts(c,cs))\n",
    "end\n",
    "\n",
    "struct GETA{N,T} <: KLEISLI{CON,T}\n",
    "    op\n",
    "    GETA(a::ATT{N,T}) where {N,T} = new{N,T}(c->cs->geta(a,c[2]))\n",
    "    GETA(N::Symbol) = GETA(CHAKRA.__attributes__(N))\n",
    "end\n",
    "\n",
    "struct GETP{N,T} <: KLEISLI{CON,T}\n",
    "    op\n",
    "    GETP(a::PTY{N,T}) where {N,T} = new{N,T}(c->cs->getp(a,c[2]))\n",
    "    GETP(N::Symbol) = GETP(CHAKRA.__properties__(N))\n",
    "end\n",
    "\n",
    "struct HASA <: KLEISLI{CON,Bool}\n",
    "    op\n",
    "    HASA(N::Symbol,v) = new(c->cs->geta(N,c[2])==v)\n",
    "    HASA(N::Symbol) = new(c->cs->geta(N,c[2])!=none)\n",
    "end\n",
    "\n",
    "struct HASP <: KLEISLI{CON,Bool}\n",
    "    op\n",
    "    HASP(N::Symbol,v) = new(c->cs->getp(N,c[2])==v)\n",
    "    HASP(N::Symbol) = new(c->cs->getp(N,c[2])!=none)\n",
    "end\n",
    "\n",
    "struct FIRSTPART <: KLEISLI{CON,Bool}\n",
    "    op\n",
    "    FIRSTPART(T::KLEISLI) = new(c->cs->(ps = parts(c,cs); isempty(ps) ? false : T(first(ps))(cs)))\n",
    "    FIRSTPART(x::ID) = FIRSTPART(c->cs->c[1]==x)\n",
    "end\n",
    "\n",
    "struct LASTPART <: KLEISLI{CON,Bool}\n",
    "    op\n",
    "    LASTPART(T) = new(c->cs->(ps = parts(c,cs); isempty(ps) ? false : T(last(ps))(cs)))\n",
    "    LASTPART(x::ID) = LASTPART(c->cs->c[1]==x)\n",
    "end\n",
    "\n",
    "struct ALLPARTS <: KLEISLI{CON,Bool}\n",
    "    op\n",
    "    ALLPARTS(T) = new(c->cs->all([T(p,cs) for p in parts(c,cs)])) \n",
    "end\n",
    "\n",
    "struct SOMEPART <: KLEISLI{CON,Bool}\n",
    "    op\n",
    "    SOMEPART(T) = new(c->cs->any([T(p,cs) for p in parts(c,cs)]))\n",
    "end\n",
    "\n",
    "struct AND <: KLEISLI{CON,Bool}\n",
    "    op\n",
    "    AND(f::KLEISLI,g::KLEISLI) = new(a->cs->f(a,cs)&&g(a,cs))\n",
    "    AND(f::KLEISLI,gs::KLEISLI...) = isempty(gs) ? f : AND(AND(f,gs[1]),gs[2:end]...)\n",
    "end\n",
    "\n",
    "struct SELECT <: READ{G}\n",
    "    op\n",
    "    SELECT(T::KLEISLI{CON,Bool}) = new(cs->[c for c in cs if T(c)(cs)])\n",
    "end\n",
    "\n",
    "opmap(B,f,l) = begin\n",
    "    isempty(l) && return B[]\n",
    "    h = f(l[1])\n",
    "    t = opmap(B,f,l[2:end])\n",
    "    h == none && return none\n",
    "    t == none && return none\n",
    "    return B[h,t...]\n",
    "end\n",
    "\n",
    "struct MAP{A,B} <: KLEISLI{LST(A),LST(B)}\n",
    "    op\n",
    "    MAP(f::KLEISLI{A,B}) where {A,B} = new{A,B}(l->cs->opmap(B,x->f(x)(cs),l))\n",
    "end\n",
    "\n",
    "struct RET{A} <: READ{A}\n",
    "    op\n",
    "    RET(v::A) where A = new{A}(_->v)\n",
    "end\n",
    "\n",
    "struct SUBCS <: KLEISLI{CON,G}\n",
    "    op\n",
    "    SUBCS() = new(c->cs->subparts(c,cs))\n",
    "end\n",
    "\n",
    "struct PROJ <: KLEISLI{CON,G}\n",
    "    op\n",
    "    PROJ(T::KLEISLI{CON,Bool}) = new(c->cs->CON[x for x in subparts(c[1],cs) if T(x,cs)])\n",
    "end\n",
    "\n",
    "struct SUM <: KLEISLI{LST(Float64),Float64}\n",
    "    op\n",
    "    SUM() = new(l->cs->sum(l))\n",
    "end\n",
    "\n",
    "struct AVG <: KLEISLI{LST(Float64),Float64}\n",
    "    op\n",
    "    AVG() = new(l->cs->sum(l)/length(l))\n",
    "end"
   ]
  },
  {
   "cell_type": "markdown",
   "id": "765192bb-b4d4-41a6-a324-360490c5b3d3",
   "metadata": {},
   "source": [
    "<a id='Querying'></a>\n",
    "## Querying"
   ]
  },
  {
   "cell_type": "code",
   "execution_count": 57,
   "id": "6da74b56-ac85-4f48-be1d-dace2438b914",
   "metadata": {},
   "outputs": [
    {
     "name": "stdout",
     "output_type": "stream",
     "text": [
      "  0.250917 seconds (167.21 k allocations: 11.305 MiB, 2.15% gc time, 99.57% compilation time)\n"
     ]
    },
    {
     "data": {
      "text/plain": [
       "20-element Vector{Pair{Main.CHAKRA.Id, Main.CHAKRA.Constituent}}:\n",
       "  Main.ChunkEx.Id{1}() => Main.ChunkEx.Exec{1}()\n",
       "  Main.ChunkEx.Id{2}() => Main.ChunkEx.Exec{2}()\n",
       "  Main.ChunkEx.Id{3}() => Main.ChunkEx.Exec{3}()\n",
       "  Main.ChunkEx.Id{4}() => Main.ChunkEx.Exec{4}()\n",
       "  Main.ChunkEx.Id{5}() => Main.ChunkEx.Exec{5}()\n",
       "  Main.ChunkEx.Id{6}() => Main.ChunkEx.Exec{6}()\n",
       "  Main.ChunkEx.Id{7}() => Main.ChunkEx.Exec{7}()\n",
       "  Main.ChunkEx.Id{8}() => Main.ChunkEx.Exec{8}()\n",
       "  Main.ChunkEx.Id{9}() => Main.ChunkEx.Exec{9}()\n",
       " Main.ChunkEx.Id{10}() => Main.ChunkEx.Exec{10}()\n",
       " Main.ChunkEx.Id{11}() => Main.ChunkEx.Exec{11}()\n",
       " Main.ChunkEx.Id{12}() => Main.ChunkEx.Exec{12}()\n",
       " Main.ChunkEx.Id{13}() => Main.ChunkEx.Exec{13}()\n",
       " Main.ChunkEx.Id{14}() => Main.ChunkEx.Exec{14}()\n",
       " Main.ChunkEx.Id{15}() => Main.ChunkEx.Exec{15}()\n",
       " Main.ChunkEx.Id{16}() => Main.ChunkEx.Exec{16}()\n",
       "    Main.SeqEx.Id{1}() => Main.SeqEx.Exec{1}()\n",
       "    Main.SeqEx.Id{2}() => Main.SeqEx.Exec{2}()\n",
       "    Main.SeqEx.Id{3}() => Main.SeqEx.Exec{3}()\n",
       "    Main.SeqEx.Id{4}() => Main.SeqEx.Exec{4}()"
      ]
     },
     "execution_count": 57,
     "metadata": {},
     "output_type": "execute_result"
    }
   ],
   "source": [
    "P = HASP(:TYPE,\"isExecutionOf\")\n",
    "@time cs |> SELECT(P)"
   ]
  },
  {
   "cell_type": "code",
   "execution_count": 58,
   "id": "f5593ce3-081c-4d83-a529-2ba7806a4341",
   "metadata": {},
   "outputs": [
    {
     "name": "stdout",
     "output_type": "stream",
     "text": [
      "  0.631732 seconds (1.11 M allocations: 71.967 MiB, 0.69% gc time, 99.40% compilation time)\n"
     ]
    },
    {
     "data": {
      "text/plain": [
       "4-element Vector{Pair{Main.CHAKRA.Id, Main.CHAKRA.Constituent}}:\n",
       " Main.SeqEx.Id{1}() => Main.SeqEx.Exec{1}()\n",
       " Main.SeqEx.Id{2}() => Main.SeqEx.Exec{2}()\n",
       " Main.SeqEx.Id{3}() => Main.SeqEx.Exec{3}()\n",
       " Main.SeqEx.Id{4}() => Main.SeqEx.Exec{4}()"
      ]
     },
     "execution_count": 58,
     "metadata": {},
     "output_type": "execute_result"
    }
   ],
   "source": [
    "P = AND(HASP(:TYPE,\"Arkite Sequence\"),\n",
    "        HASP(:SEQ_TYPE,\"Successful Assembly\"))\n",
    "@time cs |> SELECT(FIRSTPART(P))"
   ]
  },
  {
   "cell_type": "code",
   "execution_count": 59,
   "id": "f4ddcfc8-d8ee-4170-94b0-a6e7ea08a461",
   "metadata": {},
   "outputs": [
    {
     "name": "stdout",
     "output_type": "stream",
     "text": [
      "  0.040562 seconds (34.92 k allocations: 2.624 MiB, 96.66% compilation time)\n"
     ]
    },
    {
     "data": {
      "text/plain": [
       "4-element Vector{Pair{Main.CHAKRA.Id, Main.CHAKRA.Constituent}}:\n",
       " Main.SeqEx.Id{1}() => Main.SeqEx.Exec{1}()\n",
       " Main.SeqEx.Id{2}() => Main.SeqEx.Exec{2}()\n",
       " Main.SeqEx.Id{3}() => Main.SeqEx.Exec{3}()\n",
       " Main.SeqEx.Id{4}() => Main.SeqEx.Exec{4}()"
      ]
     },
     "execution_count": 59,
     "metadata": {},
     "output_type": "execute_result"
    }
   ],
   "source": [
    "P = LASTPART(wf)\n",
    "@time cs |> SELECT(P)"
   ]
  },
  {
   "cell_type": "code",
   "execution_count": 60,
   "id": "d853e799-5bfc-4364-b9d5-370e37754c21",
   "metadata": {},
   "outputs": [
    {
     "name": "stdout",
     "output_type": "stream",
     "text": [
      "  0.030498 seconds (29.42 k allocations: 2.014 MiB, 97.74% compilation time)\n"
     ]
    },
    {
     "data": {
      "text/plain": [
       "4-element Vector{Pair{Main.CHAKRA.Id, Main.CHAKRA.Constituent}}:\n",
       " Main.SeqEx.Id{1}() => Main.SeqEx.Exec{1}()\n",
       " Main.SeqEx.Id{2}() => Main.SeqEx.Exec{2}()\n",
       " Main.SeqEx.Id{3}() => Main.SeqEx.Exec{3}()\n",
       " Main.SeqEx.Id{4}() => Main.SeqEx.Exec{4}()"
      ]
     },
     "execution_count": 60,
     "metadata": {},
     "output_type": "execute_result"
    }
   ],
   "source": [
    "S = SELECT(AND(HASP(:TYPE,\"isExecutionOf\"),\n",
    "               FIRSTPART(AND(HASP(:TYPE,\"Arkite Sequence\"),\n",
    "                             HASP(:SEQ_TYPE,\"Successful Assembly\"))),\n",
    "               LASTPART(wf)))\n",
    "@time es = cs |> S"
   ]
  },
  {
   "cell_type": "code",
   "execution_count": 61,
   "id": "b22a2714-79b2-4cff-9a74-cd9022b820ad",
   "metadata": {},
   "outputs": [
    {
     "name": "stdout",
     "output_type": "stream",
     "text": [
      "  0.030791 seconds (39.30 k allocations: 2.631 MiB, 97.82% compilation time)\n"
     ]
    },
    {
     "data": {
      "text/plain": [
       "10-element Vector{Pair{x, y} where {x<:Main.CHAKRA.Id, y<:Main.CHAKRA.Constituent}}:\n",
       " Pair{Main.CHAKRA.Id, Main.CHAKRA.Constituent}(Main.Events.Id{1}(), Main.Events.Event{1}())\n",
       " Pair{Main.CHAKRA.Id, Main.CHAKRA.Constituent}(Main.Events.Id{2}(), Main.Events.Event{2}())\n",
       " Pair{Main.CHAKRA.Id, Main.CHAKRA.Constituent}(Main.Events.Id{3}(), Main.Events.Event{3}())\n",
       " Pair{Main.CHAKRA.Id, Main.CHAKRA.Constituent}(Main.Events.Id{4}(), Main.Events.Event{4}())\n",
       " Pair{Main.CHAKRA.Id, Main.CHAKRA.Constituent}(Main.Events.Id{5}(), Main.Events.Event{5}())\n",
       " Pair{Main.CHAKRA.Id, Main.CHAKRA.Constituent}(Main.Events.Id{6}(), Main.Events.Event{6}())\n",
       " Pair{Main.CHAKRA.Id, Main.CHAKRA.Constituent}(Main.Events.Id{7}(), Main.Events.Event{7}())\n",
       " Pair{Main.CHAKRA.Id, Main.CHAKRA.Constituent}(Main.Events.Id{8}(), Main.Events.Event{8}())\n",
       " Pair{Main.CHAKRA.Id, Main.CHAKRA.Constituent}(Main.Events.Id{9}(), Main.Events.Event{9}())\n",
       " Pair{Main.CHAKRA.Id, Main.CHAKRA.Constituent}(Main.Events.Id{10}(), Main.Events.Event{10}())"
      ]
     },
     "execution_count": 61,
     "metadata": {},
     "output_type": "execute_result"
    }
   ],
   "source": [
    "@time s = cs |> PROJ(HASP(:TYPE,\"Arkite Event\"))(es[1])"
   ]
  },
  {
   "cell_type": "code",
   "execution_count": 62,
   "id": "1a9eb585-bba5-47d4-babd-022e16f0bacb",
   "metadata": {},
   "outputs": [
    {
     "name": "stdout",
     "output_type": "stream",
     "text": [
      "  0.072385 seconds (170.25 k allocations: 11.661 MiB, 6.73% gc time, 99.29% compilation time)\n"
     ]
    },
    {
     "data": {
      "text/plain": [
       "10-element Vector{Float64}:\n",
       " 13338.2882\n",
       "     0.0\n",
       "  6809.3036\n",
       " 10938.0163\n",
       "  7161.9941\n",
       "  4097.3993\n",
       " 24735.4684\n",
       "  4426.8248\n",
       "  4034.7147\n",
       "     0.0"
      ]
     },
     "execution_count": 62,
     "metadata": {},
     "output_type": "execute_result"
    }
   ],
   "source": [
    "@time ds = cs |> MAP(GETA(:STEP_DURATION))(s)"
   ]
  },
  {
   "cell_type": "code",
   "execution_count": 63,
   "id": "46cc7021-4dd2-4f85-971b-9ef097b09f30",
   "metadata": {},
   "outputs": [
    {
     "name": "stdout",
     "output_type": "stream",
     "text": [
      "  0.010610 seconds (3.68 k allocations: 257.609 KiB, 99.52% compilation time)\n"
     ]
    },
    {
     "data": {
      "text/plain": [
       "75542.0094"
      ]
     },
     "execution_count": 63,
     "metadata": {},
     "output_type": "execute_result"
    }
   ],
   "source": [
    "@time cs |> SUM()(ds)"
   ]
  },
  {
   "cell_type": "code",
   "execution_count": 64,
   "id": "5d2d0766-33d4-4343-8e97-e58e648e76e1",
   "metadata": {},
   "outputs": [
    {
     "name": "stdout",
     "output_type": "stream",
     "text": [
      "  0.289939 seconds (172.19 k allocations: 11.132 MiB, 98.52% compilation time)\n"
     ]
    },
    {
     "data": {
      "text/plain": [
       "39489.89967499999"
      ]
     },
     "execution_count": 64,
     "metadata": {},
     "output_type": "execute_result"
    }
   ],
   "source": [
    "@time cs |> QUERY(SELECT(AND(HASP(:TYPE,\"isExecutionOf\"),\n",
    "                       FIRSTPART(AND(HASP(:TYPE,\"Arkite Sequence\"),\n",
    "                                     HASP(:SEQ_TYPE,\"Successful Assembly\"))),\n",
    "                       LASTPART(DWI.Workflow.Id()))),\n",
    "            MAP(FISH(PROJ(HASP(:TYPE,\"Arkite Event\")),MAP(GETA(:STEP_DURATION)),SUM())),\n",
    "            AVG())"
   ]
  },
  {
   "cell_type": "code",
   "execution_count": 65,
   "id": "58506d1e-1ffa-4dcf-ab37-67e29cf49e24",
   "metadata": {},
   "outputs": [
    {
     "name": "stdout",
     "output_type": "stream",
     "text": [
      "  0.050666 seconds (32.93 k allocations: 2.255 MiB, 96.14% compilation time)\n"
     ]
    },
    {
     "data": {
      "text/plain": [
       "13625.193049999998"
      ]
     },
     "execution_count": 65,
     "metadata": {},
     "output_type": "execute_result"
    }
   ],
   "source": [
    "@time cs |> QUERY(SELECT(AND(HASP(:TYPE,\"isExecutionOf\"),\n",
    "                             FIRSTPART(HASP(:TYPE,\"Arkite Chunk\")),\n",
    "                             LASTPART(DWI.Steps.Id{6}()))),\n",
    "                  MAP(FISH(PROJ(HASP(:TYPE,\"Arkite Event\")),MAP(GETA(:STEP_DURATION)),SUM())),AVG())"
   ]
  },
  {
   "cell_type": "markdown",
   "id": "4d5c0c5d-bf87-47bc-8b3d-8dce258433ad",
   "metadata": {},
   "source": [
    "<a id='json-queries'></a>\n",
    "## QUERY in JSON Format"
   ]
  },
  {
   "cell_type": "markdown",
   "id": "864cafb9-81f0-4670-955a-6aa582480489",
   "metadata": {},
   "source": [
    "```json\n",
    "{\n",
    "    \"op\": \"QUERY\",\n",
    "    \"args\": [\n",
    "\t{\"op\": \"SELECT\",\n",
    "\t \"args\": [\n",
    "\t     {\"op\": \"AND\",\n",
    "\t      \"args\": [\n",
    "\t\t  {\"op\": \"HASP\",\n",
    "\t\t   \"args\": [\n",
    "\t\t       \":TYPE\",\n",
    "\t\t       \"\\\"isExecutionOf\\\"\"]},\n",
    "\t\t  {\"op\": \"LASTPART\",\n",
    "\t\t   \"args\": [\n",
    "\t\t       \"DWI.Workflow.Id()\"]}]}]},\n",
    "\t{\"op\":\"MAP\",\n",
    "\t \"args\": [\n",
    "\t     {\"op\":\"FISH\",\n",
    "\t      \"args\": [\n",
    "\t\t  {\"op\":\"PROJ\",\n",
    "\t\t   \"args\": [\n",
    "\t\t       {\"op\": \"HASP\",\n",
    "\t\t\t\"args\": [\n",
    "\t\t\t    \":TYPE\",\n",
    "\t\t\t    \"\\\"Arkite Event\\\"\"]}]},\n",
    "\t\t  {\"op\":\"MAP\",\n",
    "\t\t   \"args\": [\n",
    "\t\t       {\"op\": \"GETA\",\n",
    "\t\t\t\"args\": [\n",
    "\t\t\t    \":STEP_DURATION\"]}]},\n",
    "\t\t  {\"op\":\"SUM\",\n",
    "\t\t   \"args\": []}]}]},\n",
    "\t{\"op\": \"AVG\",\n",
    "\t \"args\": []}]\n",
    "}\n",
    "```"
   ]
  },
  {
   "cell_type": "code",
   "execution_count": 68,
   "id": "a4874664-23ca-4477-8c24-ad74a6d50c74",
   "metadata": {},
   "outputs": [],
   "source": [
    "function chparse(x) \n",
    "    if x isa Dict\n",
    "        op = x[\"op\"]\n",
    "        args = x[\"args\"]\n",
    "        return eval(Symbol(op))([chparse(a) for a in args]...)\n",
    "    end\n",
    "    return eval(Meta.parse(x))\n",
    "end;"
   ]
  },
  {
   "cell_type": "code",
   "execution_count": 69,
   "id": "0e7d4bc7-441c-49bc-8fee-4756ff303e82",
   "metadata": {},
   "outputs": [],
   "source": [
    "import JSON\n",
    "d = JSON.parsefile(\"query.json\");"
   ]
  },
  {
   "cell_type": "code",
   "execution_count": 70,
   "id": "20e83075-16e0-4b42-a535-b9c22826d42f",
   "metadata": {},
   "outputs": [],
   "source": [
    "x = chparse(d);"
   ]
  },
  {
   "cell_type": "code",
   "execution_count": 71,
   "id": "177e25ce-7fbc-4f01-938d-8bddcf868890",
   "metadata": {},
   "outputs": [
    {
     "data": {
      "text/plain": [
       "39489.89967499999"
      ]
     },
     "execution_count": 71,
     "metadata": {},
     "output_type": "execute_result"
    }
   ],
   "source": [
    "cs |> x"
   ]
  },
  {
   "cell_type": "code",
   "execution_count": 72,
   "id": "571809a7-6616-470b-ab85-0510b6662cf5",
   "metadata": {},
   "outputs": [
    {
     "data": {
      "text/plain": [
       "EXECUTE (generic function with 2 methods)"
      ]
     },
     "execution_count": 72,
     "metadata": {},
     "output_type": "execute_result"
    }
   ],
   "source": [
    "function EXECUTE(d::Dict,kb)\n",
    "    cts(kb) |> chparse(d)\n",
    "end\n",
    "function EXECUTE(q::String,kb)\n",
    "    d = JSON.parsefile(q)\n",
    "    return EXECUTE(d,kb)\n",
    "end"
   ]
  },
  {
   "cell_type": "code",
   "execution_count": 73,
   "id": "f6c6c67d-fc76-4654-83e0-6bb318bed4cc",
   "metadata": {},
   "outputs": [
    {
     "data": {
      "text/plain": [
       "39489.89967499999"
      ]
     },
     "execution_count": 73,
     "metadata": {},
     "output_type": "execute_result"
    }
   ],
   "source": [
    "EXECUTE(d,KB)"
   ]
  },
  {
   "cell_type": "markdown",
   "id": "31036f8b-1397-4903-a61f-1d756eed1115",
   "metadata": {},
   "source": [
    "## Querying Knowledge Modules from Python"
   ]
  },
  {
   "cell_type": "markdown",
   "id": "0ff6769b-8c5e-4d35-b7c4-84752abdc518",
   "metadata": {},
   "source": [
    "```\n",
    "source $HOME/.venv/bin/activate\n",
    "python3\n",
    "```\n",
    "\n",
    "```python\n",
    "import julia\n",
    "#julia.install()\n",
    "j = julia.Julia()\n",
    "x = j.include(\"demo-v2.jl\")\n",
    "j.eval(\"EXECUTE(\\\"query.json\\\",KB)\")\n",
    "```"
   ]
  }
 ],
 "metadata": {
  "kernelspec": {
   "display_name": "Julia 1.10.4",
   "language": "julia",
   "name": "julia-1.10"
  },
  "language_info": {
   "file_extension": ".jl",
   "mimetype": "application/julia",
   "name": "julia",
   "version": "1.10.5"
  }
 },
 "nbformat": 4,
 "nbformat_minor": 5
}
